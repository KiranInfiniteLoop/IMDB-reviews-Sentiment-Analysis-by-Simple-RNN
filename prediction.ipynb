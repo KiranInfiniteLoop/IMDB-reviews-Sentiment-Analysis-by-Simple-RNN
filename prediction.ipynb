{
 "cells": [
  {
   "cell_type": "code",
   "execution_count": 1,
   "id": "ec3844bc",
   "metadata": {},
   "outputs": [],
   "source": [
    "# step1 : import all the libraries and load the model\n",
    "\n",
    "import numpy as np\n",
    "import tensorflow as tf\n",
    "from tensorflow.keras.datasets import imdb\n",
    "from tensorflow.keras.preprocessing import sequence\n",
    "from tensorflow.keras.models import load_model"
   ]
  },
  {
   "cell_type": "code",
   "execution_count": 2,
   "id": "91b3ff98",
   "metadata": {},
   "outputs": [],
   "source": [
    "## Load the IMDB dataset word index\n",
    "word_index=imdb.get_word_index()\n",
    "reverse_word_index={value:key for key, value in word_index.items()}"
   ]
  },
  {
   "cell_type": "code",
   "execution_count": 3,
   "id": "a79c49d4",
   "metadata": {},
   "outputs": [
    {
     "name": "stderr",
     "output_type": "stream",
     "text": [
      "WARNING:absl:Compiled the loaded model, but the compiled metrics have yet to be built. `model.compile_metrics` will be empty until you train or evaluate the model.\n"
     ]
    },
    {
     "data": {
      "text/html": [
       "<pre style=\"white-space:pre;overflow-x:auto;line-height:normal;font-family:Menlo,'DejaVu Sans Mono',consolas,'Courier New',monospace\"><span style=\"font-weight: bold\">Model: \"sequential\"</span>\n",
       "</pre>\n"
      ],
      "text/plain": [
       "\u001b[1mModel: \"sequential\"\u001b[0m\n"
      ]
     },
     "metadata": {},
     "output_type": "display_data"
    },
    {
     "data": {
      "text/html": [
       "<pre style=\"white-space:pre;overflow-x:auto;line-height:normal;font-family:Menlo,'DejaVu Sans Mono',consolas,'Courier New',monospace\">┏━━━━━━━━━━━━━━━━━━━━━━━━━━━━━━━━━┳━━━━━━━━━━━━━━━━━━━━━━━━┳━━━━━━━━━━━━━━━┓\n",
       "┃<span style=\"font-weight: bold\"> Layer (type)                    </span>┃<span style=\"font-weight: bold\"> Output Shape           </span>┃<span style=\"font-weight: bold\">       Param # </span>┃\n",
       "┡━━━━━━━━━━━━━━━━━━━━━━━━━━━━━━━━━╇━━━━━━━━━━━━━━━━━━━━━━━━╇━━━━━━━━━━━━━━━┩\n",
       "│ embedding (<span style=\"color: #0087ff; text-decoration-color: #0087ff\">Embedding</span>)           │ (<span style=\"color: #00d7ff; text-decoration-color: #00d7ff\">None</span>, <span style=\"color: #00af00; text-decoration-color: #00af00\">500</span>, <span style=\"color: #00af00; text-decoration-color: #00af00\">128</span>)       │     <span style=\"color: #00af00; text-decoration-color: #00af00\">1,280,000</span> │\n",
       "├─────────────────────────────────┼────────────────────────┼───────────────┤\n",
       "│ simple_rnn (<span style=\"color: #0087ff; text-decoration-color: #0087ff\">SimpleRNN</span>)          │ (<span style=\"color: #00d7ff; text-decoration-color: #00d7ff\">None</span>, <span style=\"color: #00af00; text-decoration-color: #00af00\">128</span>)            │        <span style=\"color: #00af00; text-decoration-color: #00af00\">32,896</span> │\n",
       "├─────────────────────────────────┼────────────────────────┼───────────────┤\n",
       "│ dense (<span style=\"color: #0087ff; text-decoration-color: #0087ff\">Dense</span>)                   │ (<span style=\"color: #00d7ff; text-decoration-color: #00d7ff\">None</span>, <span style=\"color: #00af00; text-decoration-color: #00af00\">1</span>)              │           <span style=\"color: #00af00; text-decoration-color: #00af00\">129</span> │\n",
       "└─────────────────────────────────┴────────────────────────┴───────────────┘\n",
       "</pre>\n"
      ],
      "text/plain": [
       "┏━━━━━━━━━━━━━━━━━━━━━━━━━━━━━━━━━┳━━━━━━━━━━━━━━━━━━━━━━━━┳━━━━━━━━━━━━━━━┓\n",
       "┃\u001b[1m \u001b[0m\u001b[1mLayer (type)                   \u001b[0m\u001b[1m \u001b[0m┃\u001b[1m \u001b[0m\u001b[1mOutput Shape          \u001b[0m\u001b[1m \u001b[0m┃\u001b[1m \u001b[0m\u001b[1m      Param #\u001b[0m\u001b[1m \u001b[0m┃\n",
       "┡━━━━━━━━━━━━━━━━━━━━━━━━━━━━━━━━━╇━━━━━━━━━━━━━━━━━━━━━━━━╇━━━━━━━━━━━━━━━┩\n",
       "│ embedding (\u001b[38;5;33mEmbedding\u001b[0m)           │ (\u001b[38;5;45mNone\u001b[0m, \u001b[38;5;34m500\u001b[0m, \u001b[38;5;34m128\u001b[0m)       │     \u001b[38;5;34m1,280,000\u001b[0m │\n",
       "├─────────────────────────────────┼────────────────────────┼───────────────┤\n",
       "│ simple_rnn (\u001b[38;5;33mSimpleRNN\u001b[0m)          │ (\u001b[38;5;45mNone\u001b[0m, \u001b[38;5;34m128\u001b[0m)            │        \u001b[38;5;34m32,896\u001b[0m │\n",
       "├─────────────────────────────────┼────────────────────────┼───────────────┤\n",
       "│ dense (\u001b[38;5;33mDense\u001b[0m)                   │ (\u001b[38;5;45mNone\u001b[0m, \u001b[38;5;34m1\u001b[0m)              │           \u001b[38;5;34m129\u001b[0m │\n",
       "└─────────────────────────────────┴────────────────────────┴───────────────┘\n"
      ]
     },
     "metadata": {},
     "output_type": "display_data"
    },
    {
     "data": {
      "text/html": [
       "<pre style=\"white-space:pre;overflow-x:auto;line-height:normal;font-family:Menlo,'DejaVu Sans Mono',consolas,'Courier New',monospace\"><span style=\"font-weight: bold\"> Total params: </span><span style=\"color: #00af00; text-decoration-color: #00af00\">1,313,027</span> (5.01 MB)\n",
       "</pre>\n"
      ],
      "text/plain": [
       "\u001b[1m Total params: \u001b[0m\u001b[38;5;34m1,313,027\u001b[0m (5.01 MB)\n"
      ]
     },
     "metadata": {},
     "output_type": "display_data"
    },
    {
     "data": {
      "text/html": [
       "<pre style=\"white-space:pre;overflow-x:auto;line-height:normal;font-family:Menlo,'DejaVu Sans Mono',consolas,'Courier New',monospace\"><span style=\"font-weight: bold\"> Trainable params: </span><span style=\"color: #00af00; text-decoration-color: #00af00\">1,313,025</span> (5.01 MB)\n",
       "</pre>\n"
      ],
      "text/plain": [
       "\u001b[1m Trainable params: \u001b[0m\u001b[38;5;34m1,313,025\u001b[0m (5.01 MB)\n"
      ]
     },
     "metadata": {},
     "output_type": "display_data"
    },
    {
     "data": {
      "text/html": [
       "<pre style=\"white-space:pre;overflow-x:auto;line-height:normal;font-family:Menlo,'DejaVu Sans Mono',consolas,'Courier New',monospace\"><span style=\"font-weight: bold\"> Non-trainable params: </span><span style=\"color: #00af00; text-decoration-color: #00af00\">0</span> (0.00 B)\n",
       "</pre>\n"
      ],
      "text/plain": [
       "\u001b[1m Non-trainable params: \u001b[0m\u001b[38;5;34m0\u001b[0m (0.00 B)\n"
      ]
     },
     "metadata": {},
     "output_type": "display_data"
    },
    {
     "data": {
      "text/html": [
       "<pre style=\"white-space:pre;overflow-x:auto;line-height:normal;font-family:Menlo,'DejaVu Sans Mono',consolas,'Courier New',monospace\"><span style=\"font-weight: bold\"> Optimizer params: </span><span style=\"color: #00af00; text-decoration-color: #00af00\">2</span> (12.00 B)\n",
       "</pre>\n"
      ],
      "text/plain": [
       "\u001b[1m Optimizer params: \u001b[0m\u001b[38;5;34m2\u001b[0m (12.00 B)\n"
      ]
     },
     "metadata": {},
     "output_type": "display_data"
    }
   ],
   "source": [
    "# Load the Pre-trained model with ReLU activation\n",
    "model=load_model('Simple_rnn_imdb.h5')\n",
    "model.summary()"
   ]
  },
  {
   "cell_type": "code",
   "execution_count": 4,
   "id": "289dc06f",
   "metadata": {},
   "outputs": [
    {
     "data": {
      "text/plain": [
       "[array([[ 0.23308665,  0.23944716,  0.27649033, ..., -0.26119336,\n",
       "         -0.30706185, -0.35309958],\n",
       "        [-0.01788609,  0.00995161, -0.05846384, ...,  0.01108315,\n",
       "         -0.02977838, -0.00710392],\n",
       "        [-0.05175929,  0.01055326, -0.01370581, ...,  0.01925677,\n",
       "          0.00590064, -0.05270468],\n",
       "        ...,\n",
       "        [-0.00199708, -0.03895323,  0.02213559, ...,  0.06515121,\n",
       "         -0.05740126,  0.02933694],\n",
       "        [ 0.01879551,  0.08761793,  0.07363297, ..., -0.09435632,\n",
       "         -0.0989339 , -0.05826626],\n",
       "        [-0.0089462 , -0.03306398, -0.18195534, ...,  0.21331954,\n",
       "          0.00822221,  0.21541879]], dtype=float32),\n",
       " array([[ 0.16674112, -0.01669331,  0.04111592, ..., -0.08141506,\n",
       "         -0.0803571 , -0.02261931],\n",
       "        [-0.10517404,  0.06001459, -0.13297094, ..., -0.04674459,\n",
       "          0.06949086, -0.04854453],\n",
       "        [ 0.031842  , -0.0218007 , -0.01753966, ...,  0.02534921,\n",
       "         -0.14640558, -0.18732394],\n",
       "        ...,\n",
       "        [ 0.12453258, -0.10401677, -0.11934039, ...,  0.01726433,\n",
       "         -0.06647697, -0.11961971],\n",
       "        [-0.09703632,  0.1381005 ,  0.03837484, ..., -0.03772701,\n",
       "          0.08861825,  0.00090214],\n",
       "        [ 0.12898633, -0.11199079, -0.01543476, ..., -0.02508367,\n",
       "          0.19676642,  0.12914382]], dtype=float32),\n",
       " array([[ 0.00097328,  0.07160838, -0.136809  , ..., -0.08172143,\n",
       "          0.02717976,  0.12999834],\n",
       "        [ 0.03547618,  0.00439918, -0.05490225, ..., -0.03896616,\n",
       "         -0.06577348, -0.07299621],\n",
       "        [-0.0318215 ,  0.19641367, -0.15900667, ..., -0.12962778,\n",
       "         -0.039335  ,  0.19315365],\n",
       "        ...,\n",
       "        [ 0.00997688,  0.03565147, -0.11839248, ...,  0.00059401,\n",
       "          0.0893051 , -0.05747992],\n",
       "        [ 0.08689329, -0.03762395,  0.02393882, ..., -0.0822424 ,\n",
       "         -0.15359236,  0.06633181],\n",
       "        [-0.12980457,  0.02378063,  0.10305416, ...,  0.00122542,\n",
       "          0.09739228,  0.03343318]], dtype=float32),\n",
       " array([-0.02217542, -0.00125735, -0.0276758 , -0.00967513, -0.01811535,\n",
       "        -0.00671448, -0.01687943,  0.01065024, -0.00170719,  0.00838838,\n",
       "         0.0164167 , -0.02099822, -0.01846293,  0.00165464,  0.01352627,\n",
       "        -0.00185557,  0.00703874,  0.01235538,  0.00367896, -0.01784102,\n",
       "        -0.00071593,  0.00064168,  0.00375423, -0.03105987, -0.02235013,\n",
       "        -0.0039454 ,  0.01767271,  0.00026983, -0.00774742,  0.01575761,\n",
       "        -0.00138809,  0.00250012,  0.00806933, -0.02004918,  0.03333807,\n",
       "         0.01010807, -0.00532531, -0.01936099, -0.00419516, -0.02311056,\n",
       "         0.02134922, -0.01936883, -0.0179287 ,  0.01422561, -0.00600066,\n",
       "         0.02004812, -0.02916289, -0.01006167, -0.01643745,  0.00054523,\n",
       "        -0.00367765,  0.00099626, -0.03715721, -0.01654492,  0.00944224,\n",
       "        -0.0335764 , -0.01678508, -0.00864761, -0.02343546,  0.01773875,\n",
       "        -0.02414413, -0.01282548, -0.00689771,  0.00585208, -0.02884276,\n",
       "        -0.00743119,  0.00405521,  0.01588928,  0.00177212,  0.01440698,\n",
       "         0.01874186,  0.01552442,  0.01173335,  0.01401887,  0.01387672,\n",
       "        -0.01623254,  0.00423179,  0.00577404, -0.00326189, -0.01074489,\n",
       "        -0.00683048, -0.00653445, -0.02524542,  0.00067359, -0.01634018,\n",
       "        -0.01258702, -0.00036035, -0.03044108,  0.01857636, -0.02349666,\n",
       "        -0.01783854,  0.01649052, -0.00186915, -0.01985893, -0.02300733,\n",
       "        -0.02939133, -0.00969283,  0.00632402,  0.00276788, -0.0024753 ,\n",
       "        -0.00595431, -0.00129214, -0.00818064, -0.02348823,  0.01148973,\n",
       "         0.00283787, -0.02505659,  0.00651721, -0.00627438,  0.02132265,\n",
       "        -0.00975624, -0.02173005, -0.01566387, -0.01521496,  0.00836449,\n",
       "        -0.01808656, -0.02161919, -0.00965644, -0.00294112,  0.00726745,\n",
       "        -0.01714924, -0.0132158 , -0.04130636,  0.00400423, -0.02505182,\n",
       "         0.00110229,  0.01545739,  0.02364506], dtype=float32),\n",
       " array([[-0.14717315],\n",
       "        [-0.11185347],\n",
       "        [-0.15570365],\n",
       "        [ 0.05130625],\n",
       "        [ 0.11334088],\n",
       "        [ 0.13290034],\n",
       "        [-0.13495308],\n",
       "        [ 0.4094759 ],\n",
       "        [-0.03892125],\n",
       "        [-0.22450693],\n",
       "        [-0.10263775],\n",
       "        [ 0.1540974 ],\n",
       "        [ 0.13676023],\n",
       "        [ 0.17601284],\n",
       "        [ 0.03586268],\n",
       "        [-0.03196825],\n",
       "        [-0.15127125],\n",
       "        [ 0.17513059],\n",
       "        [ 0.01381049],\n",
       "        [-0.14916581],\n",
       "        [-0.11100361],\n",
       "        [-0.38339466],\n",
       "        [ 0.16341777],\n",
       "        [-0.28960082],\n",
       "        [ 0.24577288],\n",
       "        [-0.20323683],\n",
       "        [ 0.05209559],\n",
       "        [ 0.10064552],\n",
       "        [-0.17231768],\n",
       "        [ 0.21672317],\n",
       "        [-0.19063424],\n",
       "        [-0.04617593],\n",
       "        [-0.03863627],\n",
       "        [-0.09573182],\n",
       "        [-0.09555841],\n",
       "        [-0.19275612],\n",
       "        [-0.18635273],\n",
       "        [-0.48351565],\n",
       "        [-0.11365629],\n",
       "        [ 0.55606365],\n",
       "        [ 0.10803262],\n",
       "        [ 0.02200618],\n",
       "        [-0.1594576 ],\n",
       "        [-0.12451346],\n",
       "        [ 0.1960811 ],\n",
       "        [ 0.01424405],\n",
       "        [ 0.1760778 ],\n",
       "        [ 0.09814041],\n",
       "        [-0.0265276 ],\n",
       "        [ 0.07224642],\n",
       "        [-0.06005181],\n",
       "        [ 0.15386833],\n",
       "        [ 1.6475527 ],\n",
       "        [-0.12439399],\n",
       "        [ 0.17445822],\n",
       "        [-0.20244467],\n",
       "        [-0.48497704],\n",
       "        [-0.12332588],\n",
       "        [ 0.02467536],\n",
       "        [ 0.0776702 ],\n",
       "        [ 0.05140465],\n",
       "        [-0.05929061],\n",
       "        [ 0.20823607],\n",
       "        [-0.21731792],\n",
       "        [ 0.02313736],\n",
       "        [ 0.05318156],\n",
       "        [ 0.18470185],\n",
       "        [ 0.18626317],\n",
       "        [ 0.02036044],\n",
       "        [-0.21071802],\n",
       "        [-0.06840783],\n",
       "        [ 0.14467421],\n",
       "        [ 0.03449768],\n",
       "        [ 0.16656122],\n",
       "        [-0.2615886 ],\n",
       "        [-2.2817807 ],\n",
       "        [-0.07457788],\n",
       "        [ 0.20334385],\n",
       "        [-0.22645514],\n",
       "        [-0.15590276],\n",
       "        [-0.00521089],\n",
       "        [-0.16063999],\n",
       "        [ 1.183985  ],\n",
       "        [ 0.01405555],\n",
       "        [ 0.18693008],\n",
       "        [ 0.11527766],\n",
       "        [-0.13271828],\n",
       "        [-1.0763066 ],\n",
       "        [-0.00411784],\n",
       "        [-0.0757029 ],\n",
       "        [-0.15423684],\n",
       "        [ 0.15950194],\n",
       "        [ 0.55628854],\n",
       "        [ 0.46789354],\n",
       "        [ 0.7968967 ],\n",
       "        [ 0.84881556],\n",
       "        [-0.11197567],\n",
       "        [-0.23585671],\n",
       "        [-0.17101064],\n",
       "        [-0.20807263],\n",
       "        [-0.22264339],\n",
       "        [-0.10420202],\n",
       "        [ 0.16002387],\n",
       "        [-0.21685809],\n",
       "        [ 0.2240672 ],\n",
       "        [-0.17510207],\n",
       "        [ 0.10683884],\n",
       "        [ 0.13720812],\n",
       "        [ 0.14658616],\n",
       "        [-0.01103938],\n",
       "        [ 0.01343589],\n",
       "        [-0.2047452 ],\n",
       "        [ 0.18060486],\n",
       "        [ 0.19020711],\n",
       "        [-0.08640131],\n",
       "        [ 0.11614085],\n",
       "        [-0.17012566],\n",
       "        [-0.12010946],\n",
       "        [-0.05729694],\n",
       "        [-0.21767889],\n",
       "        [-0.11265667],\n",
       "        [-0.17714325],\n",
       "        [ 1.5741115 ],\n",
       "        [ 0.05557261],\n",
       "        [-1.8331966 ],\n",
       "        [-0.35317495],\n",
       "        [ 0.06789245],\n",
       "        [ 0.15885608]], dtype=float32),\n",
       " array([-0.6443], dtype=float32)]"
      ]
     },
     "execution_count": 4,
     "metadata": {},
     "output_type": "execute_result"
    }
   ],
   "source": [
    "model.get_weights()"
   ]
  },
  {
   "cell_type": "code",
   "execution_count": 5,
   "id": "3d476083",
   "metadata": {},
   "outputs": [],
   "source": [
    "# step2: Helper functions\n",
    "#function to decode reviews\n",
    "\n",
    "def decode_review(encode_review):\n",
    "    return ' '.join([reverse_word_index.get(i - 3, '?') for i in encode_review])\n",
    "\n",
    "# Function to preprocess user input\n",
    "\n",
    "def preprocess_text(text):\n",
    "    words=text.lower().split()\n",
    "    encoded_review=[word_index.get(word, 2) + 3 for word in words]\n",
    "    padded_review=sequence.pad_sequences([encoded_review], maxlen=500)\n",
    "    return padded_review"
   ]
  },
  {
   "cell_type": "code",
   "execution_count": 6,
   "id": "183081b9",
   "metadata": {},
   "outputs": [],
   "source": [
    "### Prediction Function\n",
    "\n",
    "def predict_sentiment(review):\n",
    "    pre_processed_input=preprocess_text(review)\n",
    "\n",
    "    prediction=model.predict(pre_processed_input)\n",
    "\n",
    "    sentiment = 'positive' if prediction[0][0]>0.5 else 'Negative'\n",
    "\n",
    "    return sentiment, prediction[0][0]"
   ]
  },
  {
   "cell_type": "code",
   "execution_count": 7,
   "id": "8c1a7c8b",
   "metadata": {},
   "outputs": [
    {
     "name": "stdout",
     "output_type": "stream",
     "text": [
      "\u001b[1m1/1\u001b[0m \u001b[32m━━━━━━━━━━━━━━━━━━━━\u001b[0m\u001b[37m\u001b[0m \u001b[1m0s\u001b[0m 164ms/step\n",
      "Review: This movie was fantastic! The acting was great and the plot was thrilling\n",
      "Prediction score: 0.6640633344650269\n",
      "Sentiment: positive\n",
      "Prediction score: 0.6640633344650269\n"
     ]
    }
   ],
   "source": [
    "# step4: user input and prediction\n",
    "# example review for prediction\n",
    "\n",
    "example_review=\"This movie was fantastic! The acting was great and the plot was thrilling\"\n",
    "\n",
    "sentiment, score=predict_sentiment(example_review)\n",
    "\n",
    "print(f'Review: {example_review}')\n",
    "print(f'Prediction score: {score}')\n",
    "print(f'Sentiment: {sentiment}')\n",
    "print(f'Prediction score: {score}')"
   ]
  },
  {
   "cell_type": "code",
   "execution_count": null,
   "id": "2a70397b",
   "metadata": {},
   "outputs": [],
   "source": []
  },
  {
   "cell_type": "code",
   "execution_count": null,
   "id": "2e64a0c0",
   "metadata": {},
   "outputs": [],
   "source": []
  },
  {
   "cell_type": "code",
   "execution_count": null,
   "id": "ccbcbbe3",
   "metadata": {},
   "outputs": [],
   "source": []
  },
  {
   "cell_type": "code",
   "execution_count": null,
   "id": "d5b8f174",
   "metadata": {},
   "outputs": [],
   "source": []
  },
  {
   "cell_type": "code",
   "execution_count": null,
   "id": "b1fd184c",
   "metadata": {},
   "outputs": [],
   "source": []
  }
 ],
 "metadata": {
  "kernelspec": {
   "display_name": "base",
   "language": "python",
   "name": "python3"
  },
  "language_info": {
   "codemirror_mode": {
    "name": "ipython",
    "version": 3
   },
   "file_extension": ".py",
   "mimetype": "text/x-python",
   "name": "python",
   "nbconvert_exporter": "python",
   "pygments_lexer": "ipython3",
   "version": "3.12.7"
  }
 },
 "nbformat": 4,
 "nbformat_minor": 5
}
